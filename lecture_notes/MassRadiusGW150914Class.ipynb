{
 "cells": [
  {
   "cell_type": "markdown",
   "metadata": {
    "collapsed": true
   },
   "source": [
    "# This is my title!"
   ]
  },
  {
   "cell_type": "markdown",
   "metadata": {},
   "source": [
    "Now here's some cool text and an equation $y=mx+b$\n",
    "$$a^2+b^2=c^2$$"
   ]
  },
  {
   "cell_type": "code",
   "execution_count": 1,
   "metadata": {
    "collapsed": true
   },
   "outputs": [],
   "source": [
    "import numpy as np\n",
    "%matplotlib inline\n",
    "from matplotlib import pyplot as plt\n",
    "from __future__ import print_function"
   ]
  },
  {
   "cell_type": "code",
   "execution_count": 3,
   "metadata": {
    "collapsed": false
   },
   "outputs": [
    {
     "name": "stdout",
     "output_type": "stream",
     "text": [
      "('ReedZoheyr', 'JessicaNathan', 'Srihari', 'Will_C', 'GigiMax', 'OlinaJen', 'Palash', 'Alex__Viraj', 'Andy', 'Jacob__Niall', 'Will_and_Jack')\n"
     ]
    }
   ],
   "source": [
    "data = np.genfromtxt('ZeroCrossingTimes.csv',delimiter=',',names=True)\n",
    "print(data.dtype.names)"
   ]
  },
  {
   "cell_type": "code",
   "execution_count": 23,
   "metadata": {
    "collapsed": false
   },
   "outputs": [],
   "source": [
    "zero_times = data['OlinaJen'][:-2]"
   ]
  },
  {
   "cell_type": "code",
   "execution_count": 24,
   "metadata": {
    "collapsed": false
   },
   "outputs": [],
   "source": [
    "time_diffs = np.diff(zero_times)\n",
    "mid_times = zero_times[:-1] + time_diffs/2.\n",
    "freqs = 1./(2.*time_diffs)"
   ]
  },
  {
   "cell_type": "code",
   "execution_count": 25,
   "metadata": {
    "collapsed": false
   },
   "outputs": [
    {
     "name": "stdout",
     "output_type": "stream",
     "text": [
      "0\n"
     ]
    }
   ],
   "source": [
    "print(1/2)"
   ]
  },
  {
   "cell_type": "code",
   "execution_count": 26,
   "metadata": {
    "collapsed": false
   },
   "outputs": [
    {
     "data": {
      "text/plain": [
       "[<matplotlib.lines.Line2D at 0x10db4b510>]"
      ]
     },
     "execution_count": 26,
     "metadata": {},
     "output_type": "execute_result"
    },
    {
     "data": {
      "image/png": "[encoded data removed]",
      "text/plain": [
       "<matplotlib.figure.Figure at 0x10daa2d10>"
      ]
     },
     "metadata": {},
     "output_type": "display_data"
    }
   ],
   "source": [
    "plt.plot(mid_times,freqs**(-8./3))"
   ]
  },
  {
   "cell_type": "code",
   "execution_count": 27,
   "metadata": {
    "collapsed": false
   },
   "outputs": [
    {
     "name": "stdout",
     "output_type": "stream",
     "text": [
      "The chirp mass is 40.631284 solar masses\n"
     ]
    }
   ],
   "source": [
    "G = 6.67e-11 #m^2 kg^-1 s^-2\n",
    "c = 3e8 #m/s\n",
    "M_solar = 2e30 # kg\n",
    "R_solar = 6e8 #m\n",
    "slope = (.000001-0.000048)/(0.418-0.355)\n",
    "M_chirp = ((-5.*slope/((8*np.pi)**(8./3)))**(3./5.))*(c**3.)/G\n",
    "print('The chirp mass is %f solar masses'%(M_chirp/M_solar)) "
   ]
  },
  {
   "cell_type": "code",
   "execution_count": 31,
   "metadata": {
    "collapsed": false
   },
   "outputs": [
    {
     "name": "stdout",
     "output_type": "stream",
     "text": [
      "93.3461781786\n",
      "the orbital radius at f_max is 356794.684371\n"
     ]
    }
   ],
   "source": [
    "def M_tot(M_c):\n",
    "    return (2.**(6./5.))*M_c\n",
    "print(M_tot(M_chirp)/M_solar)\n",
    "def radius_func(M_c,f_max):\n",
    "    return (G*M_tot(M_c)/((2*np.pi*(f_max/2.))**2))**(1./3.)\n",
    "\n",
    "print('the orbital radius at f_max is %f'%radius_func(M_chirp,np.amax(freqs)))"
   ]
  },
  {
   "cell_type": "code",
   "execution_count": 33,
   "metadata": {
    "collapsed": false
   },
   "outputs": [
    {
     "data": {
      "text/plain": [
       "26.116516898883727"
      ]
     },
     "execution_count": 33,
     "metadata": {},
     "output_type": "execute_result"
    }
   ],
   "source": [
    "60./(2**(6./5))"
   ]
  },
  {
   "cell_type": "code",
   "execution_count": null,
   "metadata": {
    "collapsed": true
   },
   "outputs": [],
   "source": []
  }
 ],
 "metadata": {
  "kernelspec": {
   "display_name": "Python 2",
   "language": "python",
   "name": "python2"
  },
  "language_info": {
   "codemirror_mode": {
    "name": "ipython",
    "version": 2
   },
   "file_extension": ".py",
   "mimetype": "text/x-python",
   "name": "python",
   "nbconvert_exporter": "python",
   "pygments_lexer": "ipython2",
   "version": "2.7.11"
  }
 },
 "nbformat": 4,
 "nbformat_minor": 0
}
