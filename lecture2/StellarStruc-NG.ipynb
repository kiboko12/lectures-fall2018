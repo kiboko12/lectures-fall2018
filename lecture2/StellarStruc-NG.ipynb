{
 "cells": [
  {
   "cell_type": "markdown",
   "metadata": {},
   "source": [
    "# STELLARSTRUC-NG.IPYNB -- Solve equations of stellar structure in NG"
   ]
  },
  {
   "cell_type": "code",
   "execution_count": 1,
   "metadata": {},
   "outputs": [],
   "source": [
    "### IMPORT STUFF ###\n",
    "\n",
    "import numpy as np\n",
    "from scipy.interpolate import interp1d\n",
    "from scipy.integrate import odeint\n",
    "import matplotlib.pyplot as plt\n",
    "from crust import crust\n",
    "\n",
    "G = 6.674e-8 # Newton's constant in cgs units\n",
    "c = 2.998e10 # speed of light in cm/s\n",
    "Msun = 1.988e33 # solar mass in g\n",
    "rhonuc = 2.7e14 # nuclear density in g/cm^3"
   ]
  },
  {
   "cell_type": "code",
   "execution_count": 2,
   "metadata": {},
   "outputs": [],
   "source": [
    "### MAKE SOME HELPFUL UTILITIES ###\n",
    "\n",
    "def geteos(eospath,eosname): # import tabulated EoS data\n",
    "    \n",
    "    eos = np.genfromtxt(eospath+eosname+\".dat\") # EoS data (rho=mass density, p=pressure/c^2, mu=total energy density/c^2) in g/cm^3\n",
    "    [rhodat,mudat,pdat] = crust(eos) # affix low-density crust EoS, return (rho,mu,p) in units of rhonuc\n",
    "\n",
    "    return [rhodat, rhodat, pdat] # set mu = rho for Newtonian gravity\n",
    "\n",
    "def intpeos(rhodat,mudat,pdat): # interpolate full EoS from tabulated data\n",
    "    \n",
    "    pmuintp = interp1d(mudat,pdat,kind='linear',bounds_error=False,fill_value=0.)\n",
    "    dpdmumuintp = interp1d(mudat,np.gradient(pdat)/np.gradient(mudat),kind='linear',bounds_error=False,fill_value=0.)\n",
    "    \n",
    "    def p(mu): # pressure as a function of total energy density\n",
    "        \n",
    "        return pmuintp(mu)\n",
    "    \n",
    "    def dpdmu(mu): # sound speed squared\n",
    "        \n",
    "        return dpdmumuintp(mu)\n",
    "    \n",
    "    murhointp = interp1d(rhodat,mudat,kind='linear',bounds_error=False,fill_value=0.)\n",
    "    \n",
    "    def Mu(rho): # total energy density as a function of rest-mass energy density, for calculating central value of total energy density\n",
    "\n",
    "        return murhointp(rho)\n",
    "    \n",
    "    return [p, dpdmu, Mu]\n"
   ]
  },
  {
   "cell_type": "code",
   "execution_count": 3,
   "metadata": {},
   "outputs": [],
   "source": [
    "### DEFINE KEY FUNCTIONS ###\n",
    "\n",
    "def hydro(y,r): # condition of hydrostatic equilibrium\n",
    "        \n",
    "    mu, m = y\n",
    "        \n",
    "    return -(mu)*(m)/(r**2) # note that we are using G=c=1 units in this code\n",
    "    \n",
    "def mass(y,r): # defining equation for the mass\n",
    "    \n",
    "    mu, m = y\n",
    "    \n",
    "    return 4.*np.pi*r**2*mu\n",
    "\n",
    "def struceqs(y,r): # implement equations of stellar structure as a set of coupled ODEs\n",
    "     \n",
    "    return hydro(y,r), mass(y,r)"
   ]
  },
  {
   "cell_type": "code",
   "execution_count": 4,
   "metadata": {},
   "outputs": [],
   "source": [
    "### PROVIDE INPUT PARAMETERS ###\n",
    "\n",
    "eosname = \"APR4\" # SET EQUATION OF STATE HERE\n",
    "rhoc = 1e-5 # SET CENTRAL MASS DENSITY HERE\n",
    "\n",
    "eospath = \"./\" # path to EoS data files\n",
    "stp = 1e-4 # starting step for numerical integration\n",
    "pts = 5e3 # number of points at which to evaluate numerical integration\n",
    "tol = 1e-6 # tolerance for surface finding algorithm"
   ]
  },
  {
   "cell_type": "code",
   "execution_count": 5,
   "metadata": {},
   "outputs": [],
   "source": [
    "### RUN CODE ###\n",
    "\n",
    "[rhodat,mudat,pdat] = geteos(eospath,eosname) # get tabulated EoS data in units of rhonuc\n",
    "[p, dpdmu, Mu] = intpeos(rhodat,mudat,pdat) # interpolate full EoS p(mu), dpdmu(mu), Mu(rho) from tabulated data\n",
    "\n",
    "muc = Mu(rhoc) # calculate central total energy density from central mass density\n",
    "y0 = [muc,4.*np.pi*stp**3*muc/3.] # implement boundary conditions at center of star\n",
    "rlist = np.linspace(stp,10.,int(pts)) # list radial points at which to evaluate numerical integration\n",
    "ys = np.zeros((len(rlist),2)) # create array to store values of functions at evaluation points\n",
    "\n",
    "ys[0] = y0 # store central boundary values\n",
    "Rsol = rlist[-1] # to initialize search, set maximum possible surface location to be furthest radial evaluation point\n",
    "\n",
    "for i in range(len(rlist)-1): # integrate to each radial evaluation point, check if p = 0, continue if not, break if yes\n",
    "\n",
    "    rs = [rlist[i],rlist[i+1]] # current integration interval\n",
    "\n",
    "    y = odeint(struceqs,ys[i],rs) # do numerical integration\n",
    "\n",
    "    ys[i+1] = y[-1] # save solution for functions\n",
    "    pressure = ys[i+1][0] # extract pressure\n",
    "\n",
    "    if (pressure < tol or pressure != pressure): # check if pressure vanishes\n",
    "\n",
    "        Rsol = rs[0] # if so, define stellar surface to lie at current location\n",
    "\n",
    "        break\n",
    "\n",
    "rlist = rlist[0:i+1] # truncate list of radial points at surface r=R\n",
    "musoldat = ys[0:i+1,0] # record solution for mu(r)\n",
    "msoldat = ys[0:i+1,1] # record solution for m(r)\n",
    "\n",
    "musol = interp1d(rlist,musoldat,kind='linear') # interpolate full solution for mu(r) from tabulation\n",
    "msol = interp1d(rlist,msoldat,kind='linear',bounds_error=False,fill_value=msoldat[-1]) # interpolate full solution for m(r) from tabulation\n",
    "psol = interp1d(rlist,p(musoldat),kind='linear') # interpolate full solution for p(r)=p(mu(r)) from tabulation\n",
    "\n",
    "Msol = msol(Rsol) # evaluate total mass of star M = m(R)"
   ]
  },
  {
   "cell_type": "code",
   "execution_count": 6,
   "metadata": {},
   "outputs": [
    {
     "data": {
      "image/png": "[encoded data removed]",
      "text/plain": [
       "<matplotlib.figure.Figure at 0x7f7c75453d10>"
      ]
     },
     "metadata": {},
     "output_type": "display_data"
    },
    {
     "name": "stdout",
     "output_type": "stream",
     "text": [
      "An APR4-star with rho_c = 1e-05 rho_nuc has a mass of M = 2.00054508112 M_Sun and a radius of R = 706.247047551 km.\n"
     ]
    }
   ],
   "source": [
    "### OUTPUT RESULTS ###\n",
    "\n",
    "plt.figure(1,(15,10)) # plot mu(r), p(r), m(r)\n",
    "plt.plot(rlist/Rsol,musol(rlist)/muc,c='black',marker='.',label='mu/mu_c')\n",
    "plt.plot(rlist/Rsol,psol(rlist)/p(muc),c='limegreen',marker='.',label='p/p_c')\n",
    "plt.plot(rlist/Rsol,msol(rlist)/Msol,c='lightcoral',marker='.',label='m/M')\n",
    "plt.xlabel('r/R')\n",
    "plt.xlim(0.,1.)\n",
    "plt.ylim(0.,1.)\n",
    "plt.legend()\n",
    "plt.show()\n",
    "\n",
    "R = Rsol*c/(1e5*(G*rhonuc)**0.5) # convert R from code units to km\n",
    "M = Msol*c**3/(G*(G*rhonuc)**0.5*Msun) # convert M from code units to solar masses\n",
    "\n",
    "print 'An {0}-star with rho_c = {1} rho_nuc has a mass of M = {2} M_Sun and a radius of R = {3} km.'.format(eosname,rhoc,M,R)"
   ]
  }
 ],
 "metadata": {
  "kernelspec": {
   "display_name": "Python 2",
   "language": "python",
   "name": "python2"
  },
  "language_info": {
   "codemirror_mode": {
    "name": "ipython",
    "version": 2
   },
   "file_extension": ".py",
   "mimetype": "text/x-python",
   "name": "python",
   "nbconvert_exporter": "python",
   "pygments_lexer": "ipython2",
   "version": "2.7.13"
  }
 },
 "nbformat": 4,
 "nbformat_minor": 2
}
