{
 "cells": [
  {
   "cell_type": "markdown",
   "metadata": {},
   "source": [
    "# EVIDENCEMR.IPYNB -- Calculate EoS evidence based on M-R observation"
   ]
  },
  {
   "cell_type": "code",
   "execution_count": 1,
   "metadata": {},
   "outputs": [],
   "source": [
    "### IMPORT STUFF ###\n",
    "\n",
    "import numpy as np\n",
    "import matplotlib.pyplot as plt\n",
    "from scipy.interpolate import interp1d\n",
    "from scipy.integrate import quad\n",
    "from scipy.stats import multivariate_normal as normal\n",
    "from ns import ns\n",
    "\n",
    "G = 6.674e-8 # Newton's constant in cgs units\n",
    "c = 2.998e10 # speed of light in cm/s\n",
    "Msun = 1.988e33 # solar mass in g\n",
    "rhonuc = 2.7e14 # nuclear density in g/cm^3"
   ]
  },
  {
   "cell_type": "code",
   "execution_count": 2,
   "metadata": {},
   "outputs": [],
   "source": [
    "### PROVIDE OBSERVATIONAL DATA ###\n",
    "\n",
    "Mobs = 1.34 # SET OBSERVED MASS [Msun] AND ERROR BARS HERE\n",
    "Merr = 0.01\n",
    "\n",
    "Robs = 13.9 # SET OBSERVED RADIUS [km] AND ERROR BARS HERE\n",
    "Rerr = 0.1\n",
    "\n",
    "def distr(R,M): # 2D Gaussian centered on (Mobs, Robs)\n",
    "    \n",
    "    return normal.pdf([R,M],mean=[Robs,Mobs],cov=[[Rerr**2,0],[0,Merr**2]])\n",
    "\n",
    "def L(R = [],M = []): # Likelihood as a function of (M,R) for plotting purposes\n",
    "    \n",
    "    Lmat = np.zeros((len(R),len(M)))\n",
    "    \n",
    "    for i in range(len(R)):\n",
    "        \n",
    "        for j in range(len(M)):\n",
    "            \n",
    "            Lmat[i,j] = distr(R[i],M[j])\n",
    "    \n",
    "    return Lmat"
   ]
  },
  {
   "cell_type": "code",
   "execution_count": 3,
   "metadata": {},
   "outputs": [],
   "source": [
    "### SPECIFY EOS INPUT PARAMETERS ###\n",
    "\n",
    "eosnames = [\"APR4\",\"NL3\",\"MS1B\"] # SET EQUATIONS OF STATE HERE\n",
    "rhocs = np.linspace(1.,5.,10) # SET CENTRAL MASS DENSITIES HERE\n",
    "\n",
    "eospath = \"./\" # path to EoS data files\n",
    "stp = 1e-4 # starting step for numerical integration\n",
    "pts = 5e3 # number of points at which to evaluate numerical integration\n",
    "tol = 1e-6 # tolerance for surface finding algorithm"
   ]
  },
  {
   "cell_type": "code",
   "execution_count": 4,
   "metadata": {},
   "outputs": [
    {
     "name": "stdout",
     "output_type": "stream",
     "text": [
      "Integrating APR4\n"
     ]
    },
    {
     "name": "stderr",
     "output_type": "stream",
     "text": [
      "ns.py:52: RuntimeWarning: divide by zero encountered in double_scalars\n",
      "  return -(mu+p(mu))*(m+4.*np.pi*r**3*p(mu))/(dpdmu(mu)*r**2*(1.-2.*m/r)) # note that we are using G=c=1 units in this code\n",
      "ns.py:52: RuntimeWarning: invalid value encountered in double_scalars\n",
      "  return -(mu+p(mu))*(m+4.*np.pi*r**3*p(mu))/(dpdmu(mu)*r**2*(1.-2.*m/r)) # note that we are using G=c=1 units in this code\n"
     ]
    },
    {
     "name": "stdout",
     "output_type": "stream",
     "text": [
      "Integrating NL3\n"
     ]
    },
    {
     "name": "stderr",
     "output_type": "stream",
     "text": [
      "/opt/anaconda2/lib/python2.7/site-packages/scipy/integrate/odepack.py:218: ODEintWarning: Excess work done on this call (perhaps wrong Dfun type). Run with full_output = 1 to get quantitative information.\n",
      "  warnings.warn(warning_msg, ODEintWarning)\n"
     ]
    },
    {
     "name": "stdout",
     "output_type": "stream",
     "text": [
      "Integrating MS1B\n"
     ]
    }
   ],
   "source": [
    "### RUN CODE TO GET M-R RELATIONS ###\n",
    "\n",
    "Mlist = np.zeros((len(eosnames),len(rhocs)))\n",
    "Rlist = np.zeros((len(eosnames),len(rhocs)))\n",
    "rslist = []\n",
    "muslist = []\n",
    "mslist = []\n",
    "lengths = [0]\n",
    "\n",
    "RM = []\n",
    "\n",
    "i = 0\n",
    "for eosname in eosnames:\n",
    "    j = 0\n",
    "    print 'Integrating {0}'.format(eosname)\n",
    "    for rhoc in rhocs:\n",
    "        [props, rs, mus, ms] = ns(eosname,rhoc,pts,eospath,stp,tol)\n",
    "        [Rlist[i,j], Mlist[i,j]] = props\n",
    "        lengths = np.append(lengths,len(rs))\n",
    "        rslist = np.append(rslist,rs)\n",
    "        muslist = np.append(muslist,mus)\n",
    "        mslist = np.append(mslist,ms)\n",
    "\n",
    "        j = j+1\n",
    "    \n",
    "    RMfunc = interp1d(Mlist[i],Rlist[i],kind='linear',bounds_error=False,fill_value=0.)\n",
    "    RM = np.append(RM,RMfunc)\n",
    "    i = i+1"
   ]
  },
  {
   "cell_type": "code",
   "execution_count": 5,
   "metadata": {},
   "outputs": [
    {
     "name": "stderr",
     "output_type": "stream",
     "text": [
      "/opt/anaconda2/lib/python2.7/site-packages/ipykernel/__main__.py:8: RuntimeWarning: divide by zero encountered in log10\n"
     ]
    },
    {
     "data": {
      "image/png": "[encoded data removed]",
      "text/plain": [
       "<matplotlib.figure.Figure at 0x7fdb4c5a77d0>"
      ]
     },
     "metadata": {},
     "output_type": "display_data"
    }
   ],
   "source": [
    "### OUTPUT M-R CURVES AND OBSERVATIONAL LIKELIHOOD ###\n",
    "\n",
    "colors = ['black','limegreen','lightcoral']\n",
    "\n",
    "plt.figure(1,(15,10)) # plot interpolated M(R)\n",
    "MLs = np.linspace(0.,3.0,100)\n",
    "RLs = np.linspace(10.,16.,100)\n",
    "plt.contourf(RLs,MLs,np.log10(L(RLs,MLs)).transpose(),2)\n",
    "plt.scatter(Robs,Mobs,marker='+',c='r')\n",
    "for i in np.arange(len(eosnames)):\n",
    "    Ms = np.linspace(max(0.5,min(Mlist[i])),max(Mlist[i]),10)\n",
    "    plt.scatter(Rlist[i],Mlist[i],c=colors[i],marker='.',label=eosnames[i])\n",
    "    plt.plot(RM[i](Ms),Ms,c=colors[i],label=eosnames[i])\n",
    "plt.ylabel('M [Msun]')\n",
    "plt.xlabel('R [km]')\n",
    "plt.ylim(0.,3.)\n",
    "plt.xlim(10.,16.)\n",
    "plt.legend()\n",
    "\n",
    "plt.show()\n"
   ]
  },
  {
   "cell_type": "code",
   "execution_count": 6,
   "metadata": {},
   "outputs": [
    {
     "name": "stdout",
     "output_type": "stream",
     "text": [
      "The Bayesian evidences for each EoS are E0=2.02411491504e-147, E1=6.82627967978e-21, E2=1.97847425571e-12\n",
      "The log evidence ratios (Bayes factors) are B02=-134.990095238, B12=-8.46214632571\n"
     ]
    }
   ],
   "source": [
    "### CALCULATE EVIDENCE FOR EACH EOS ###\n",
    "\n",
    "evidence0 = lambda M: distr(RM[0](M),M)\n",
    "evidence1 = lambda M: distr(RM[1](M),M)\n",
    "evidence2 = lambda M: distr(RM[2](M),M)\n",
    "\n",
    "e0, err0 = quad(evidence0,0.5,3.)\n",
    "e1, err1 = quad(evidence1,0.5,3.)\n",
    "e2, err2 = quad(evidence2,0.5,3.)\n",
    "\n",
    "print 'The Bayesian evidences for each EoS are E0={0}, E1={1}, E2={2}'.format(e0,e1,e2)\n",
    "print 'The log evidence ratios (Bayes factors) are B02={0}, B12={1}'.format(np.log10(e0/e2), np.log10(e1/e2))"
   ]
  }
 ],
 "metadata": {
  "kernelspec": {
   "display_name": "Python 2",
   "language": "python",
   "name": "python2"
  },
  "language_info": {
   "codemirror_mode": {
    "name": "ipython",
    "version": 2
   },
   "file_extension": ".py",
   "mimetype": "text/x-python",
   "name": "python",
   "nbconvert_exporter": "python",
   "pygments_lexer": "ipython2",
   "version": "2.7.13"
  }
 },
 "nbformat": 4,
 "nbformat_minor": 2
}
